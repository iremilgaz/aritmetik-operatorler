{
 "cells": [
  {
   "cell_type": "code",
   "execution_count": 6,
   "id": "00bb77c3",
   "metadata": {},
   "outputs": [
    {
     "name": "stdout",
     "output_type": "stream",
     "text": [
      "bir sayı girin8\n",
      "bir sayı daha girin6\n",
      "8 sayı1\n",
      "6 sayı2\n"
     ]
    }
   ],
   "source": [
    "sayi=int(input(\"bir sayı girin\"))\n",
    "sayi2=int(input(\"bir sayı daha girin\"))\n",
    "print(sayi, \"sayı1\")\n",
    "print(sayi2, \"sayı2\")"
   ]
  },
  {
   "cell_type": "code",
   "execution_count": 7,
   "id": "f83b5082",
   "metadata": {},
   "outputs": [
    {
     "data": {
      "text/plain": [
       "14"
      ]
     },
     "execution_count": 7,
     "metadata": {},
     "output_type": "execute_result"
    }
   ],
   "source": [
    "sayi+sayi2"
   ]
  },
  {
   "cell_type": "code",
   "execution_count": 8,
   "id": "09fd3c28",
   "metadata": {},
   "outputs": [
    {
     "data": {
      "text/plain": [
       "2"
      ]
     },
     "execution_count": 8,
     "metadata": {},
     "output_type": "execute_result"
    }
   ],
   "source": [
    "sayi-sayi2"
   ]
  },
  {
   "cell_type": "code",
   "execution_count": 9,
   "id": "5943ecbc",
   "metadata": {},
   "outputs": [
    {
     "data": {
      "text/plain": [
       "48"
      ]
     },
     "execution_count": 9,
     "metadata": {},
     "output_type": "execute_result"
    }
   ],
   "source": [
    "sayi*sayi2"
   ]
  },
  {
   "cell_type": "code",
   "execution_count": 11,
   "id": "b7e83ca4",
   "metadata": {},
   "outputs": [
    {
     "data": {
      "text/plain": [
       "1.3333333333333333"
      ]
     },
     "execution_count": 11,
     "metadata": {},
     "output_type": "execute_result"
    }
   ],
   "source": [
    "sayi/sayi2\n"
   ]
  },
  {
   "cell_type": "code",
   "execution_count": 12,
   "id": "314f906d",
   "metadata": {},
   "outputs": [
    {
     "data": {
      "text/plain": [
       "1"
      ]
     },
     "execution_count": 12,
     "metadata": {},
     "output_type": "execute_result"
    }
   ],
   "source": [
    "sayi//sayi2\n"
   ]
  },
  {
   "cell_type": "code",
   "execution_count": 13,
   "id": "bec8d68d",
   "metadata": {},
   "outputs": [
    {
     "data": {
      "text/plain": [
       "2"
      ]
     },
     "execution_count": 13,
     "metadata": {},
     "output_type": "execute_result"
    }
   ],
   "source": [
    "sayi%sayi2\n"
   ]
  },
  {
   "cell_type": "code",
   "execution_count": 14,
   "id": "1e61b2d2",
   "metadata": {},
   "outputs": [
    {
     "data": {
      "text/plain": [
       "262144"
      ]
     },
     "execution_count": 14,
     "metadata": {},
     "output_type": "execute_result"
    }
   ],
   "source": [
    "sayi**sayi2"
   ]
  },
  {
   "cell_type": "code",
   "execution_count": 28,
   "id": "791c1207",
   "metadata": {},
   "outputs": [
    {
     "name": "stdout",
     "output_type": "stream",
     "text": [
      "Yarıçapı giriniz: 5\n",
      "78.53981633974483\n"
     ]
    }
   ],
   "source": [
    "#görev2\n",
    "import math\n",
    "r = int(input(\"Yarıçapı giriniz: \"))\n",
    "alan = math.pi * r**2\n",
    "print(alan)"
   ]
  },
  {
   "cell_type": "code",
   "execution_count": null,
   "id": "da67a97a",
   "metadata": {},
   "outputs": [],
   "source": []
  }
 ],
 "metadata": {
  "kernelspec": {
   "display_name": "Python 3 (ipykernel)",
   "language": "python",
   "name": "python3"
  },
  "language_info": {
   "codemirror_mode": {
    "name": "ipython",
    "version": 3
   },
   "file_extension": ".py",
   "mimetype": "text/x-python",
   "name": "python",
   "nbconvert_exporter": "python",
   "pygments_lexer": "ipython3",
   "version": "3.9.12"
  }
 },
 "nbformat": 4,
 "nbformat_minor": 5
}
